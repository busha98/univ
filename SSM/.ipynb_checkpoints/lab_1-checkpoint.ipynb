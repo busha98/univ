{
 "cells": [
  {
   "cell_type": "markdown",
   "metadata": {},
   "source": [
    "# Лабораторная работа №1. Моделирование БСВ.\n",
    "### (Крайний срок сдачи до 20.09.2018)\n",
    "\n",
    "Вариант 3) a_0 = β = 131 075, K = 128\n",
    "\n",
    "Используя метод Маклерена-Марсаль и построить датчик БСВ (1 датчик\n",
    "должен быть мультипликативно конгруентный, второй – на выбор).\n",
    "Исследовать точность построенной БСВ.\n",
    "\n",
    "\n",
    "1. Осуществить моделирование n = 1000 реализаций БСВ с помощью мультипликативного конгруэнтного метода (МКМ) с параметрами a_0 , β, M = 2^31 .\n",
    "2. Осуществить моделирование n = 1000 реализаций БСВ с помощью метода Макларена-Марсальи (один датчик должен быть мультипликативно конгруентный (п. 1), второй – на выбор). K – объем вспомогательной таблицы.\n",
    "3. Проверить точность моделирования обоих датчиков (п. 1 и п. 2) с помощью критерия согласия Колмогорова и χ^2 -критерия Пирсона с уровнем значимости ε = 0.05.\n",
    "\n"
   ]
  },
  {
   "cell_type": "markdown",
   "metadata": {},
   "source": [
    "### 1. C помощью мультипликативного конгруэнтного метода (МКМ)\n",
    "\n",
    "a_t = {b * a_{t-1} }Mod(M)\n"
   ]
  },
  {
   "cell_type": "code",
   "execution_count": 90,
   "metadata": {},
   "outputs": [],
   "source": [
    "def multiplicative_congruential_method (a_0, b, M, count):\n",
    "    a_asterisk_before = a_0\n",
    "    array = [a_asterisk_before / M]\n",
    "    for i in range(count):\n",
    "        a_asterisk = b*a_asterisk_before % M\n",
    "        array.append(a_asterisk / M)\n",
    "        a_asterisk_before = a_asterisk\n",
    "    return array"
   ]
  },
  {
   "cell_type": "code",
   "execution_count": 91,
   "metadata": {
    "scrolled": true
   },
   "outputs": [],
   "source": [
    "a_0 = 131\n",
    "b = 131\n",
    "M = 2**31\n",
    "n = 1000\n",
    "\n",
    "multiplicative_congruential = multiplicative_congruential_method(a_0, b, M, n)"
   ]
  },
  {
   "cell_type": "markdown",
   "metadata": {},
   "source": [
    "### 2. C помощью метода Макларена-Марсальи"
   ]
  },
  {
   "cell_type": "markdown",
   "metadata": {},
   "source": [
    "-"
   ]
  },
  {
   "cell_type": "code",
   "execution_count": 92,
   "metadata": {},
   "outputs": [],
   "source": [
    "import numpy as np\n"
   ]
  },
  {
   "cell_type": "code",
   "execution_count": 93,
   "metadata": {},
   "outputs": [],
   "source": [
    "n = 1000\n",
    "k = 128\n",
    "X = multiplicative_congruential_method(a_0, b, M, n+k)\n",
    "Y = np.random.rand(n)\n",
    "V = [] # 1..k\n",
    "Z = []\n",
    "\n",
    "def MacLaren_Marsaglia_method():\n",
    "    V = X[1:k]\n",
    "    for i in range(0, n):\n",
    "        s = int(Y[i]*(k-1))\n",
    "        Z.append(V[s])\n",
    "        V[s] = X[i+k]\n",
    "    return Z"
   ]
  },
  {
   "cell_type": "code",
   "execution_count": 94,
   "metadata": {},
   "outputs": [],
   "source": [
    "MacLaren_Marsaglia = MacLaren_Marsaglia_method()"
   ]
  },
  {
   "cell_type": "markdown",
   "metadata": {},
   "source": [
    "### 3. Проверка точность моделирования обоих датчиков (п. 1 и п. 2) с помощью критерия согласия Колмогорова и χ^2 -критерия Пирсона"
   ]
  },
  {
   "cell_type": "code",
   "execution_count": 95,
   "metadata": {},
   "outputs": [],
   "source": [
    "def func_uniform_distribution(x, a, b):\n",
    "    return (x-a)/(b-a)\n",
    "\n",
    "def empirical_func_distribution(x, array):\n",
    "    return len(list(filter(lambda y: y < x, array))) / len(array)"
   ]
  },
  {
   "cell_type": "markdown",
   "metadata": {},
   "source": [
    "#### Критерия согласия Колмогорова "
   ]
  },
  {
   "cell_type": "code",
   "execution_count": 96,
   "metadata": {},
   "outputs": [],
   "source": [
    "a = 0\n",
    "b = 1\n",
    "n = 20\n",
    "X = np.array(range(n)) / n"
   ]
  },
  {
   "cell_type": "code",
   "execution_count": 101,
   "metadata": {},
   "outputs": [
    {
     "name": "stdout",
     "output_type": "stream",
     "text": [
      "0.02847152847152845\n",
      "0.018000000000000016\n"
     ]
    }
   ],
   "source": [
    "print(max(map(lambda x: abs(empirical_func_distribution(x, multiplicative_congruential) - func_uniform_distribution(x, a, b)), X )))\n",
    "print(max(map(lambda x: abs(empirical_func_distribution(x, MacLaren_Marsaglia) - func_uniform_distribution(x, a, b)), X )))"
   ]
  },
  {
   "cell_type": "markdown",
   "metadata": {},
   "source": [
    "### χ^2 -критерия Пирсона"
   ]
  },
  {
   "cell_type": "code",
   "execution_count": 102,
   "metadata": {},
   "outputs": [],
   "source": [
    "a = 0\n",
    "b = 1\n"
   ]
  },
  {
   "cell_type": "code",
   "execution_count": 103,
   "metadata": {},
   "outputs": [],
   "source": [
    "def Xi_2(arr, func_uniform_distribution, a, b, n):\n",
    "    n_ = len(arr)\n",
    "    sum = 0\n",
    "    for i in range(1, n):\n",
    "        n_i = len(list(filter(lambda x: (b-a)*(i)/n <x and x < (b-a)*(i+1)/n, arr)))\n",
    "        p_i = func_uniform_distribution((b-a)*(i+1)/n, a, b) - func_uniform_distribution((b-a)*(i)/n, a, b)\n",
    "        E_i = n_*p_i\n",
    "        sum += (n_i - E_i)*(n_i - E_i) / E_i\n",
    "    return sum"
   ]
  },
  {
   "cell_type": "code",
   "execution_count": 104,
   "metadata": {},
   "outputs": [
    {
     "name": "stdout",
     "output_type": "stream",
     "text": [
      "12.028871128871112\n",
      "11.249999999999979\n"
     ]
    }
   ],
   "source": [
    "print(Xi_2(multiplicative_congruential, func_uniform_distribution, a, b, 10))\n",
    "print(Xi_2(MacLaren_Marsaglia, func_uniform_distribution, a, b, 10))"
   ]
  },
  {
   "cell_type": "code",
   "execution_count": null,
   "metadata": {},
   "outputs": [],
   "source": []
  },
  {
   "cell_type": "code",
   "execution_count": null,
   "metadata": {},
   "outputs": [],
   "source": []
  }
 ],
 "metadata": {
  "kernelspec": {
   "display_name": "Python 3",
   "language": "python",
   "name": "python3"
  },
  "language_info": {
   "codemirror_mode": {
    "name": "ipython",
    "version": 3
   },
   "file_extension": ".py",
   "mimetype": "text/x-python",
   "name": "python",
   "nbconvert_exporter": "python",
   "pygments_lexer": "ipython3",
   "version": "3.6.5"
  }
 },
 "nbformat": 4,
 "nbformat_minor": 2
}
