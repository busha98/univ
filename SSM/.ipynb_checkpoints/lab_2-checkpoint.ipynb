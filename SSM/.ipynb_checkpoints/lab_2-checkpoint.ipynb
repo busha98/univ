{
 "cells": [
  {
   "cell_type": "markdown",
   "metadata": {},
   "source": [
    "# Лабораторная работа №2. Моделирование дискретных СВ.\n",
    "\n",
    "###### (Крайний срок сдачи до 04.10.2018)\n",
    "\n",
    "Смоделировать дискретную случайную величину (задания на стр. 18-22).\n",
    "Исследовать точность моделирования.\n",
    "\n",
    "1) Осуществить моделирование n = 1000 реализаций СВ из заданных дискретных распределений.\n",
    "\n",
    "2) Вывести на экран несмещенные оценки математического ожидания и дисперсии, сравнить их с истинными значениями.\n",
    "\n",
    "3) Для каждой из случайных величин построить свой χ 2 -критерием Пирсона с уровнем значимость ε=0.05. Проверить, что вероятность ошибки I рода стремится к 0.05.\n",
    "\n",
    "4) Осуществить проверку каждой из сгенерированных выборок каждым из построенных критериев."
   ]
  },
  {
   "cell_type": "markdown",
   "metadata": {},
   "source": [
    "1) Bi(1, 0.6)\n",
    "\n",
    "2) П(0.5)\n",
    "\n",
    "3)"
   ]
  },
  {
   "cell_type": "code",
   "execution_count": 23,
   "metadata": {},
   "outputs": [],
   "source": [
    "import math\n",
    "import numpy as np\n",
    "def multiplicative_congruential_method (a_0, b, M, count):\n",
    "    a_asterisk_before = a_0\n",
    "    array = [a_asterisk_before / M]\n",
    "    for i in range(count):\n",
    "        a_asterisk = b*a_asterisk_before % M\n",
    "        array.append(a_asterisk / M)\n",
    "        a_asterisk_before = a_asterisk\n",
    "    return array"
   ]
  },
  {
   "cell_type": "code",
   "execution_count": 24,
   "metadata": {},
   "outputs": [],
   "source": [
    "p = 0.6\n",
    "Bi = list(map(lambda x: 0 if x < p else 1, multiplicative_congruential_method(131, 131, 2**31, 1000)))"
   ]
  },
  {
   "cell_type": "code",
   "execution_count": null,
   "metadata": {},
   "outputs": [],
   "source": [
    "l = 0.5\n",
    "e = math.exp(-l)"
   ]
  },
  {
   "cell_type": "code",
   "execution_count": null,
   "metadata": {},
   "outputs": [],
   "source": [
    "P = []\n",
    "count = 0\n",
    "while count < 1000:\n",
    "    rand = np.random.random()\n",
    "    index = 0\n",
    "#     while rand > e:\n",
    "#         rand *= np.random.random()\n",
    "#         print(rand)\n",
    "#         index += 1\n",
    "    count += 1\n",
    "    P.append(index)"
   ]
  },
  {
   "cell_type": "code",
   "execution_count": null,
   "metadata": {},
   "outputs": [],
   "source": [
    "P"
   ]
  },
  {
   "cell_type": "code",
   "execution_count": null,
   "metadata": {},
   "outputs": [],
   "source": []
  }
 ],
 "metadata": {
  "kernelspec": {
   "display_name": "Python 3",
   "language": "python",
   "name": "python3"
  },
  "language_info": {
   "codemirror_mode": {
    "name": "ipython",
    "version": 3
   },
   "file_extension": ".py",
   "mimetype": "text/x-python",
   "name": "python",
   "nbconvert_exporter": "python",
   "pygments_lexer": "ipython3",
   "version": "3.6.5"
  }
 },
 "nbformat": 4,
 "nbformat_minor": 2
}
