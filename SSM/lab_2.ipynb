{
 "cells": [
  {
   "cell_type": "markdown",
   "metadata": {},
   "source": [
    "# Лабораторная работа №2. Моделирование дискретных СВ.\n",
    "\n",
    "###### (Крайний срок сдачи до 04.10.2018)\n",
    "\n",
    "Смоделировать дискретную случайную величину (задания на стр. 18-22).\n",
    "Исследовать точность моделирования.\n",
    "\n",
    "1) Осуществить моделирование n = 1000 реализаций СВ из заданных дискретных распределений.\n",
    "\n",
    "2) Вывести на экран несмещенные оценки математического ожидания и дисперсии, сравнить их с истинными значениями.\n",
    "\n",
    "3) Для каждой из случайных величин построить свой χ 2 -критерием Пирсона с уровнем значимость ε=0.05. Проверить, что вероятность ошибки I рода стремится к 0.05.\n",
    "\n",
    "4) Осуществить проверку каждой из сгенерированных выборок каждым из построенных критериев."
   ]
  },
  {
   "cell_type": "markdown",
   "metadata": {},
   "source": [
    "1) Bi(1, 0.6)\n",
    "\n",
    "2) П(0.5)\n",
    "\n",
    "3)"
   ]
  },
  {
   "cell_type": "code",
   "execution_count": 251,
   "metadata": {},
   "outputs": [],
   "source": [
    "import math\n",
    "import numpy as np\n",
    "def multiplicative_congruential_method (a_0, b, M, count):\n",
    "    a_asterisk_before = a_0\n",
    "    array = [a_asterisk_before / M]\n",
    "    for i in range(count):\n",
    "        a_asterisk = b*a_asterisk_before % M\n",
    "        array.append(a_asterisk / M)\n",
    "        a_asterisk_before = a_asterisk\n",
    "    return array\n",
    "def empirical_func_distribution(x, array):\n",
    "    return len(list(filter(lambda y: y < x, array))) / len(array)\n",
    "def Xi_2(arr, func_distribution, a, b):\n",
    "    n = max(arr)\n",
    "    n_ = len(arr)\n",
    "    sum = 0\n",
    "    for i in range(1, n+1):\n",
    "        n_i = np.sum(list(map(lambda x: arr.count(x), range(i))))\n",
    "        p_i = 0\n",
    "        if b:\n",
    "            p_i = func_distribution(i, a, b)\n",
    "        else:\n",
    "            p_i = func_distribution(i, a)\n",
    "        E_i = n_*p_i\n",
    "        \n",
    "        print(E_i)\n",
    "        print(n_i)\n",
    "        \n",
    "        \n",
    "        sum += (n_i - E_i)*(n_i - E_i) / E_i\n",
    "    return sum"
   ]
  },
  {
   "cell_type": "code",
   "execution_count": 252,
   "metadata": {},
   "outputs": [],
   "source": [
    "# Равномерное\n",
    "def Uniform(a, b, n):\n",
    "    return [a + np.random.random() % (b - a + 1) for i in range(n)]"
   ]
  },
  {
   "cell_type": "code",
   "execution_count": 253,
   "metadata": {},
   "outputs": [],
   "source": [
    "# Бернулли (1,p)\n",
    "def Bernoulli(p, n):\n",
    "    return list(map(lambda x: 0 if x < p else 1, np.random.random(n)))\n",
    "def func_bernoulli_distribution(k, p):\n",
    "    if k < 0:\n",
    "        return 0\n",
    "    elif k < 1:\n",
    "        return p\n",
    "    else :\n",
    "        return 1-p"
   ]
  },
  {
   "cell_type": "code",
   "execution_count": 254,
   "metadata": {},
   "outputs": [],
   "source": [
    "# Пуасона (L)\n",
    "def Poisson(L, n):\n",
    "    e = math.exp(-L)\n",
    "    P = []\n",
    "    count = 0\n",
    "    while count < 1000:\n",
    "        rand = np.random.random()\n",
    "        index = 0\n",
    "        while rand > e:\n",
    "            rand *= np.random.random()\n",
    "            index += 1\n",
    "        count += 1\n",
    "        P.append(index)\n",
    "    return P\n",
    "def func_poisson_distribution(k, l):\n",
    "    return sum(list(map(lambda x: l**x * math.exp(-l) / math.factorial(x), range(k))))"
   ]
  },
  {
   "cell_type": "code",
   "execution_count": 255,
   "metadata": {},
   "outputs": [],
   "source": [
    "# Биномиальное – Bi(m,p)\n",
    "def Binomial(m, p, n):\n",
    "    Bi = []\n",
    "    for i in range(n):\n",
    "        Bi.append(sum(Bernoulli(p, m)))\n",
    "    return Bi\n",
    "def func_binomial_distribution(k, m, p):\n",
    "    return sum(list(map(lambda x: math.factorial(m) / (math.factorial(x) * math.factorial(m-k)) * p**x ** (1-p)**(m-x) , range(k))))"
   ]
  },
  {
   "cell_type": "code",
   "execution_count": 256,
   "metadata": {},
   "outputs": [],
   "source": [
    "# Геометрическое – G(p)\n",
    "def Geometric(p, n):\n",
    "    G = []\n",
    "    q = 1 - p\n",
    "    U = Uniform(0, 1, n)\n",
    "    for i in range(n):\n",
    "        prod = p\n",
    "        sum = p\n",
    "        k = 0\n",
    "        while sum < U[i]:\n",
    "            prod *= q\n",
    "            sum += prod\n",
    "            k += 1\n",
    "        G.append(k)\n",
    "    return G\n",
    "def func_geometric_distribution(k, p):\n",
    "    return sum(list(map(lambda x: (1-p)**x * p, range(k))))"
   ]
  },
  {
   "cell_type": "code",
   "execution_count": 257,
   "metadata": {},
   "outputs": [],
   "source": [
    "# Отрицательное биномиальное – Bi (r,p),\n",
    "def NB(p, r, n):\n",
    "    return [sum(Geometric(1 - p, r)) for i in range(n)]\n",
    "\n",
    "def func_NB_distribution(k, p, r):\n",
    "    return sum(list(map(lambda x: math.factorial(x+r-1) / (math.factorial(x) * math.factorial(math.fabs(x+r-1-k))) * p**r ** (1-p)**(x) , range(k))))"
   ]
  },
  {
   "cell_type": "markdown",
   "metadata": {},
   "source": [
    "Вывести на экран несмещенные оценки математического ожидания и дисперсии, сравнить их с истинными значениями."
   ]
  },
  {
   "cell_type": "code",
   "execution_count": 258,
   "metadata": {},
   "outputs": [
    {
     "name": "stdout",
     "output_type": "stream",
     "text": [
      "0.413 0.6\n",
      "0.474 0.5\n",
      "3.748 1.25\n",
      "0.632 0.6666666666666667\n",
      "1.045 16.0\n"
     ]
    }
   ],
   "source": [
    "print(np.mean(Bernoulli(0.6, 1000)), '0.6')\n",
    "print(np.mean(Poisson(0.5, 1000)), '0.5')\n",
    "print(np.mean(Binomial(5, 0.25, 1000)), 5*0.25)\n",
    "print(np.mean(Geometric(0.6, 1000)), (1-0.6)/0.6)\n",
    "print(np.mean(NB(0.2, 4, 1000)), 4*(1-0.2) / 0.2)"
   ]
  },
  {
   "cell_type": "code",
   "execution_count": 259,
   "metadata": {},
   "outputs": [
    {
     "name": "stdout",
     "output_type": "stream",
     "text": [
      "0.49108451411136966 0.24\n",
      "0.7249544813296901 0.5\n",
      "0.9873580910692938 0.9375\n",
      "1.1182624915465957 1.1111111111111112\n",
      "1.117889082154397 79.99999999999999\n"
     ]
    }
   ],
   "source": [
    "print(np.std(Bernoulli(0.6, 1000)), 0.6*(1-0.6))\n",
    "print(np.std(Poisson(0.5, 1000)), '0.5')\n",
    "print(np.std(Binomial(5, 0.25, 1000)), 5*0.25*(1-0.25))\n",
    "print(np.std(Geometric(0.6, 1000)), (1-0.6) / (0.6**2))\n",
    "print(np.std(NB(0.2, 4, 1000)), 4*(1-0.2) / (0.2**2))"
   ]
  },
  {
   "cell_type": "code",
   "execution_count": 260,
   "metadata": {},
   "outputs": [
    {
     "name": "stdout",
     "output_type": "stream",
     "text": [
      "400.0\n",
      "608\n"
     ]
    },
    {
     "data": {
      "text/plain": [
       "108.16"
      ]
     },
     "execution_count": 260,
     "metadata": {},
     "output_type": "execute_result"
    }
   ],
   "source": [
    "Xi_2(Bernoulli(0.6, 1000), func_bernoulli_distribution, 0.6, False)"
   ]
  },
  {
   "cell_type": "code",
   "execution_count": 261,
   "metadata": {},
   "outputs": [
    {
     "name": "stdout",
     "output_type": "stream",
     "text": [
      "606.5306597126335\n",
      "625\n",
      "909.7959895689502\n",
      "923\n",
      "985.6123220330293\n",
      "988\n"
     ]
    },
    {
     "data": {
      "text/plain": [
       "0.7598221606931869"
      ]
     },
     "execution_count": 261,
     "metadata": {},
     "output_type": "execute_result"
    }
   ],
   "source": [
    "Xi_2(Poisson(0.5, 1000), func_poisson_distribution, 0.5, False)"
   ]
  },
  {
   "cell_type": "code",
   "execution_count": 262,
   "metadata": {},
   "outputs": [
    {
     "name": "stdout",
     "output_type": "stream",
     "text": [
      "5000.0\n",
      "1\n",
      "25000.0\n",
      "14\n",
      "79683.3976836183\n",
      "108\n",
      "160894.76278948493\n",
      "376\n",
      "160993.86587909513\n",
      "759\n"
     ]
    },
    {
     "data": {
      "text/plain": [
       "429060.63773684076"
      ]
     },
     "execution_count": 262,
     "metadata": {},
     "output_type": "execute_result"
    }
   ],
   "source": [
    "Xi_2(Binomial(5, 0.25, 1000), func_binomial_distribution, 5, 0.25)"
   ]
  },
  {
   "cell_type": "code",
   "execution_count": 263,
   "metadata": {},
   "outputs": [
    {
     "name": "stdout",
     "output_type": "stream",
     "text": [
      "600.0\n",
      "586\n",
      "840.0\n",
      "822\n",
      "936.0\n",
      "924\n",
      "974.4\n",
      "967\n",
      "989.76\n",
      "987\n",
      "995.904\n",
      "995\n",
      "998.3616\n",
      "998\n"
     ]
    },
    {
     "data": {
      "text/plain": [
       "0.931073750072992"
      ]
     },
     "execution_count": 263,
     "metadata": {},
     "output_type": "execute_result"
    }
   ],
   "source": [
    "Xi_2(Geometric(0.6, 1000), func_geometric_distribution, 0.6, False)"
   ]
  },
  {
   "cell_type": "code",
   "execution_count": 264,
   "metadata": {},
   "outputs": [
    {
     "name": "stdout",
     "output_type": "stream",
     "text": [
      "4.800000000000001\n",
      "402\n",
      "100.86419257872477\n",
      "730\n",
      "794.3407210730638\n",
      "897\n",
      "3670.400139487195\n",
      "961\n",
      "12075.76060526561\n",
      "991\n",
      "31435.189036148167\n",
      "997\n",
      "68984.27246410541\n",
      "999\n"
     ]
    },
    {
     "data": {
      "text/plain": [
       "145454.42348972784"
      ]
     },
     "execution_count": 264,
     "metadata": {},
     "output_type": "execute_result"
    }
   ],
   "source": [
    "Xi_2(NB(0.2, 4, 1000), func_NB_distribution, 0.2, 4)"
   ]
  },
  {
   "cell_type": "code",
   "execution_count": null,
   "metadata": {},
   "outputs": [],
   "source": []
  },
  {
   "cell_type": "code",
   "execution_count": null,
   "metadata": {},
   "outputs": [],
   "source": []
  }
 ],
 "metadata": {
  "kernelspec": {
   "display_name": "Python 3",
   "language": "python",
   "name": "python3"
  },
  "language_info": {
   "codemirror_mode": {
    "name": "ipython",
    "version": 3
   },
   "file_extension": ".py",
   "mimetype": "text/x-python",
   "name": "python",
   "nbconvert_exporter": "python",
   "pygments_lexer": "ipython3",
   "version": "3.6.5"
  }
 },
 "nbformat": 4,
 "nbformat_minor": 2
}
