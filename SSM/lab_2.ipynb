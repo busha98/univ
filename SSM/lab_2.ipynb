{
 "cells": [
  {
   "cell_type": "markdown",
   "metadata": {},
   "source": [
    "# Лабораторная работа №2. Моделирование дискретных СВ.\n",
    "\n",
    "###### (Крайний срок сдачи до 04.10.2018)\n",
    "\n",
    "Смоделировать дискретную случайную величину (задания на стр. 18-22).\n",
    "Исследовать точность моделирования.\n",
    "\n",
    "1) Осуществить моделирование n = 1000 реализаций СВ из заданных дискретных распределений.\n",
    "\n",
    "2) Вывести на экран несмещенные оценки математического ожидания и дисперсии, сравнить их с истинными значениями.\n",
    "\n",
    "3) Для каждой из случайных величин построить свой χ 2 -критерием Пирсона с уровнем значимость ε=0.05. Проверить, что вероятность ошибки I рода стремится к 0.05.\n",
    "\n",
    "4) Осуществить проверку каждой из сгенерированных выборок каждым из построенных критериев."
   ]
  },
  {
   "cell_type": "markdown",
   "metadata": {},
   "source": [
    "1) Bi(1, 0.6)\n",
    "\n",
    "2) П(0.5)\n",
    "\n",
    "3)"
   ]
  },
  {
   "cell_type": "code",
   "execution_count": 161,
   "metadata": {},
   "outputs": [],
   "source": [
    "import math\n",
    "import numpy as np\n",
    "def multiplicative_congruential_method (a_0, b, M, count):\n",
    "    a_asterisk_before = a_0\n",
    "    array = [a_asterisk_before / M]\n",
    "    for i in range(count):\n",
    "        a_asterisk = b*a_asterisk_before % M\n",
    "        array.append(a_asterisk / M)\n",
    "        a_asterisk_before = a_asterisk\n",
    "    return array"
   ]
  },
  {
   "cell_type": "code",
   "execution_count": 162,
   "metadata": {},
   "outputs": [],
   "source": [
    "# Равномерное\n",
    "def Uniform(a, b, n):\n",
    "    return [a + np.random.random() % (b - a + 1) for i in range(n)]"
   ]
  },
  {
   "cell_type": "code",
   "execution_count": 163,
   "metadata": {},
   "outputs": [],
   "source": [
    "# Бернулли (1,p)\n",
    "def Bernoulli(p, n):\n",
    "    return list(map(lambda x: 0 if x < p else 1, np.random.random(n)))"
   ]
  },
  {
   "cell_type": "code",
   "execution_count": 164,
   "metadata": {},
   "outputs": [],
   "source": [
    "# Пуасона (L)\n",
    "def Poisson(L, n):\n",
    "    e = math.exp(-L)\n",
    "    P = []\n",
    "    count = 0\n",
    "    while count < 1000:\n",
    "        rand = np.random.random()\n",
    "        index = 0\n",
    "        while rand > e:\n",
    "            rand *= np.random.random()\n",
    "            index += 1\n",
    "        count += 1\n",
    "        P.append(index)\n",
    "    return P"
   ]
  },
  {
   "cell_type": "code",
   "execution_count": 165,
   "metadata": {},
   "outputs": [],
   "source": [
    "# Биномиальное – Bi(m,p)\n",
    "def Binomial(m, p, n):\n",
    "    Bi = []\n",
    "    for i in range(n):\n",
    "        Bi.append(sum(Bernoulli(p, m)))\n",
    "    return Bi"
   ]
  },
  {
   "cell_type": "code",
   "execution_count": 166,
   "metadata": {},
   "outputs": [],
   "source": [
    "# Геометрическое – G(p)\n",
    "def Geometric(p, n):\n",
    "    G = []\n",
    "    q = 1 - p\n",
    "    U = Uniform(0, 1, n)\n",
    "    for i in range(n):\n",
    "        prod = p\n",
    "        sum = p\n",
    "        k = 0\n",
    "        while sum < U[i]:\n",
    "            prod *= q\n",
    "            sum += prod\n",
    "            k += 1\n",
    "        G.append(k)\n",
    "    return G"
   ]
  },
  {
   "cell_type": "code",
   "execution_count": 167,
   "metadata": {},
   "outputs": [],
   "source": [
    "# Отрицательное биномиальное – Bi (r,p),\n",
    "def Pascal(p, r, n):\n",
    "    return [sum(Geometric(1 - p, r)) for i in range(n)]"
   ]
  },
  {
   "cell_type": "markdown",
   "metadata": {},
   "source": [
    "Вывести на экран несмещенные оценки математического ожидания и дисперсии, сравнить их с истинными значениями."
   ]
  },
  {
   "cell_type": "code",
   "execution_count": 168,
   "metadata": {},
   "outputs": [
    {
     "name": "stdout",
     "output_type": "stream",
     "text": [
      "0.409 0.6\n",
      "0.534 0.5\n",
      "3.701 1.25\n",
      "0.708 0.6666666666666667\n",
      "1.05 16.0\n"
     ]
    }
   ],
   "source": [
    "print(np.mean(Bernoulli(0.6, 1000)), '0.6')\n",
    "print(np.mean(Poisson(0.5, 1000)), '0.5')\n",
    "print(np.mean(Binomial(5, 0.25, 1000)), 5*0.25)\n",
    "print(np.mean(Geometric(0.6, 1000)), (1-0.6)/0.6)\n",
    "print(np.mean(Pascal(0.2, 4, 1000)), 4*(1-0.2) / 0.2)"
   ]
  },
  {
   "cell_type": "code",
   "execution_count": 169,
   "metadata": {},
   "outputs": [
    {
     "name": "stdout",
     "output_type": "stream",
     "text": [
      "0.48906441293555597 0.24\n",
      "0.6779941002693165 0.5\n",
      "0.9757822502997275 0.9375\n",
      "1.1719368583673782 1.1111111111111112\n",
      "1.1590064710777073 79.99999999999999\n"
     ]
    }
   ],
   "source": [
    "print(np.std(Bernoulli(0.6, 1000)), 0.6*(1-0.6))\n",
    "print(np.std(Poisson(0.5, 1000)), '0.5')\n",
    "print(np.std(Binomial(5, 0.25, 1000)), 5*0.25*(1-0.25))\n",
    "print(np.std(Geometric(0.6, 1000)), (1-0.6) / (0.6**2))\n",
    "print(np.std(Pascal(0.2, 4, 1000)), 4*(1-0.2) / (0.2**2))"
   ]
  },
  {
   "cell_type": "code",
   "execution_count": null,
   "metadata": {},
   "outputs": [],
   "source": [
    "\n"
   ]
  },
  {
   "cell_type": "code",
   "execution_count": null,
   "metadata": {},
   "outputs": [],
   "source": []
  },
  {
   "cell_type": "code",
   "execution_count": null,
   "metadata": {},
   "outputs": [],
   "source": []
  },
  {
   "cell_type": "code",
   "execution_count": null,
   "metadata": {},
   "outputs": [],
   "source": []
  },
  {
   "cell_type": "code",
   "execution_count": null,
   "metadata": {},
   "outputs": [],
   "source": []
  },
  {
   "cell_type": "code",
   "execution_count": null,
   "metadata": {},
   "outputs": [],
   "source": []
  }
 ],
 "metadata": {
  "kernelspec": {
   "display_name": "Python 3",
   "language": "python",
   "name": "python3"
  },
  "language_info": {
   "codemirror_mode": {
    "name": "ipython",
    "version": 3
   },
   "file_extension": ".py",
   "mimetype": "text/x-python",
   "name": "python",
   "nbconvert_exporter": "python",
   "pygments_lexer": "ipython3",
   "version": "3.7.0"
  }
 },
 "nbformat": 4,
 "nbformat_minor": 2
}
